{
 "cells": [
  {
   "cell_type": "code",
   "execution_count": 2,
   "metadata": {},
   "outputs": [
    {
     "name": "stdout",
     "output_type": "stream",
     "text": [
      "   Country  Year  Suicides number  Life expectancy  Adult Mortality  \\\n",
      "0  Albania  2000             54.0             72.6             11.0   \n",
      "1  Albania  2001            119.0             73.6             14.0   \n",
      "2  Albania  2002            133.0             73.3             15.0   \n",
      "3  Albania  2003            124.0             72.8             18.0   \n",
      "4  Albania  2004            146.0             73.0             17.0   \n",
      "\n",
      "   Infant deaths  Alcohol  Under-five deaths  HIV/AIDS          GDP  \\\n",
      "0              1     3.66                  1       0.1  1175.788981   \n",
      "1              1     4.25                  1       0.1  1326.973390   \n",
      "2              1     3.73                  1       0.1  1453.642777   \n",
      "3              1     4.29                  1       0.1   189.681557   \n",
      "4              1     4.54                  1       0.1  2416.588235   \n",
      "\n",
      "   Population  Income composition of resources  Schooling  \n",
      "0     38927.0                            0.656       10.7  \n",
      "1     36173.0                            0.662       10.6  \n",
      "2      3511.0                            0.670       10.7  \n",
      "3    339616.0                            0.674       10.7  \n",
      "4    326939.0                            0.681       10.9  \n"
     ]
    }
   ],
   "source": [
    "import pandas as pd\n",
    "\n",
    "# Load the dataset\n",
    "df = pd.read_csv('suicide-rates.csv')\n",
    "\n",
    "# Display the first few rows\n",
    "print(df.head())\n"
   ]
  },
  {
   "cell_type": "code",
   "execution_count": 3,
   "metadata": {},
   "outputs": [
    {
     "name": "stdout",
     "output_type": "stream",
     "text": [
      "<class 'pandas.core.frame.DataFrame'>\n",
      "RangeIndex: 1421 entries, 0 to 1420\n",
      "Data columns (total 13 columns):\n",
      " #   Column                           Non-Null Count  Dtype  \n",
      "---  ------                           --------------  -----  \n",
      " 0   Country                          1421 non-null   object \n",
      " 1   Year                             1421 non-null   int64  \n",
      " 2   Suicides number                  1421 non-null   float64\n",
      " 3   Life expectancy                  1421 non-null   float64\n",
      " 4   Adult Mortality                  1421 non-null   float64\n",
      " 5   Infant deaths                    1421 non-null   int64  \n",
      " 6   Alcohol                          1421 non-null   float64\n",
      " 7   Under-five deaths                1421 non-null   int64  \n",
      " 8   HIV/AIDS                         1421 non-null   float64\n",
      " 9   GDP                              1421 non-null   float64\n",
      " 10  Population                       1421 non-null   float64\n",
      " 11  Income composition of resources  1421 non-null   float64\n",
      " 12  Schooling                        1421 non-null   float64\n",
      "dtypes: float64(9), int64(3), object(1)\n",
      "memory usage: 144.4+ KB\n"
     ]
    }
   ],
   "source": [
    "# Get a concise summary of the dataset\n",
    "df.info()\n"
   ]
  },
  {
   "cell_type": "code",
   "execution_count": 4,
   "metadata": {},
   "outputs": [
    {
     "name": "stdout",
     "output_type": "stream",
     "text": [
      "Country                            0\n",
      "Year                               0\n",
      "Suicides number                    0\n",
      "Life expectancy                    0\n",
      "Adult Mortality                    0\n",
      "Infant deaths                      0\n",
      "Alcohol                            0\n",
      "Under-five deaths                  0\n",
      "HIV/AIDS                           0\n",
      "GDP                                0\n",
      "Population                         0\n",
      "Income composition of resources    0\n",
      "Schooling                          0\n",
      "dtype: int64\n"
     ]
    }
   ],
   "source": [
    "# Identify missing values\n",
    "print(df.isnull().sum())\n"
   ]
  },
  {
   "cell_type": "code",
   "execution_count": 5,
   "metadata": {},
   "outputs": [
    {
     "name": "stdout",
     "output_type": "stream",
     "text": [
      "Index(['Country', 'Year', 'Suicides number', 'Life expectancy',\n",
      "       'Adult Mortality', 'Infant deaths', 'Alcohol', 'Under-five deaths',\n",
      "       'HIV/AIDS', 'GDP', 'Population', 'Income composition of resources',\n",
      "       'Schooling'],\n",
      "      dtype='object')\n"
     ]
    }
   ],
   "source": [
    "# Get column names\n",
    "print(df.columns)\n"
   ]
  },
  {
   "cell_type": "code",
   "execution_count": 6,
   "metadata": {},
   "outputs": [
    {
     "name": "stdout",
     "output_type": "stream",
     "text": [
      "              Year  Suicides number  Life expectancy  Adult Mortality  \\\n",
      "count  1421.000000      1421.000000      1421.000000      1421.000000   \n",
      "mean   2007.251935      2629.177340        75.233638       116.912738   \n",
      "std       4.503817      6755.607644         5.399686        74.413799   \n",
      "min    2000.000000         0.000000        53.700000         1.000000   \n",
      "25%    2003.000000        85.000000        72.500000        68.000000   \n",
      "50%    2007.000000       501.000000        74.900000       117.000000   \n",
      "75%    2011.000000      1867.000000        78.900000       163.000000   \n",
      "max    2015.000000     56958.000000        89.000000       498.000000   \n",
      "\n",
      "       Infant deaths      Alcohol  Under-five deaths     HIV/AIDS  \\\n",
      "count    1421.000000  1421.000000        1421.000000  1421.000000   \n",
      "mean        5.805067     6.664729           7.038705     0.397537   \n",
      "std        13.088297     3.917763          16.104082     2.227681   \n",
      "min         0.000000     0.010000           0.000000     0.100000   \n",
      "25%         0.000000     3.540000           0.000000     0.100000   \n",
      "50%         1.000000     6.950000           1.000000     0.100000   \n",
      "75%         4.000000     9.800000           5.000000     0.100000   \n",
      "max       111.000000    17.870000         127.000000    29.700000   \n",
      "\n",
      "                 GDP    Population  Income composition of resources  \\\n",
      "count    1421.000000  1.421000e+03                      1421.000000   \n",
      "mean    14018.867107  1.294056e+07                         0.748189   \n",
      "std     19697.409425  3.652156e+07                         0.160380   \n",
      "min         1.681350  3.400000e+01                         0.000000   \n",
      "25%      1564.966945  2.541220e+05                         0.695000   \n",
      "50%      4622.415160  1.735275e+06                         0.773000   \n",
      "75%     16462.485560  7.463157e+06                         0.852000   \n",
      "max    119172.741800  3.000785e+08                         0.948000   \n",
      "\n",
      "         Schooling  \n",
      "count  1421.000000  \n",
      "mean     13.929838  \n",
      "std       2.462661  \n",
      "min       0.000000  \n",
      "25%      12.500000  \n",
      "50%      13.800000  \n",
      "75%      15.600000  \n",
      "max      20.700000  \n"
     ]
    }
   ],
   "source": [
    "# Summary of numerical columns\n",
    "print(df.describe())\n"
   ]
  },
  {
   "cell_type": "code",
   "execution_count": 9,
   "metadata": {},
   "outputs": [
    {
     "name": "stdout",
     "output_type": "stream",
     "text": [
      "106\n"
     ]
    }
   ],
   "source": [
    "# Check how many countries are in the dataset\n",
    "print(df['Country'].nunique())\n"
   ]
  },
  {
   "cell_type": "code",
   "execution_count": null,
   "metadata": {},
   "outputs": [],
   "source": []
  }
 ],
 "metadata": {
  "kernelspec": {
   "display_name": "Python 3",
   "language": "python",
   "name": "python3"
  },
  "language_info": {
   "codemirror_mode": {
    "name": "ipython",
    "version": 3
   },
   "file_extension": ".py",
   "mimetype": "text/x-python",
   "name": "python",
   "nbconvert_exporter": "python",
   "pygments_lexer": "ipython3",
   "version": "3.11.9"
  }
 },
 "nbformat": 4,
 "nbformat_minor": 2
}
