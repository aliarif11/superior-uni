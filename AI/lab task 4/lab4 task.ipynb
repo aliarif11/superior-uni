{
 "cells": [
  {
   "cell_type": "code",
   "execution_count": 1,
   "metadata": {},
   "outputs": [
    {
     "name": "stdout",
     "output_type": "stream",
     "text": [
      "True\n"
     ]
    }
   ],
   "source": [
    "def luhn(card_number):\n",
    "    card_number = [int(digit) for digit in str(card_number)]\n",
    "    checksum = 0\n",
    "    odd_digits = card_number[-1::-2]\n",
    "    even_digits = card_number[-2::-2]\n",
    "\n",
    "    checksum += sum(odd_digits)\n",
    "    \n",
    "    for digit in even_digits:\n",
    "        checksum += sum(divmod(digit * 2, 10))\n",
    "    \n",
    "    return checksum % 10 == 0\n",
    "\n",
    "\n",
    "print(luhn(4532015112830366))  \n"
   ]
  },
  {
   "cell_type": "code",
   "execution_count": 4,
   "metadata": {},
   "outputs": [
    {
     "name": "stdout",
     "output_type": "stream",
     "text": [
      "DONE\n"
     ]
    }
   ],
   "source": [
    "def remove_punctuations(string):\n",
    "\n",
    "    punctuation_chars = \"!@#$%^&*()_-+=<>?.,;:[]{}|\\n\\t\"\n",
    "    result = \"\"\n",
    "    for char in string:\n",
    "        if char not in punctuation_chars:\n",
    "            result += char\n",
    "    return result\n",
    "\n",
    "user_input = \"DONE.\"\n",
    "result = remove_punctuations(user_input)\n",
    "print(result)"
   ]
  },
  {
   "cell_type": "code",
   "execution_count": 6,
   "metadata": {},
   "outputs": [
    {
     "name": "stdout",
     "output_type": "stream",
     "text": [
      "['jazz', 'ufone', 'zong']\n"
     ]
    }
   ],
   "source": [
    "def alphabetical_sort(words):\n",
    "    sorted_words = []\n",
    "    while words:\n",
    "        smallest = words[0]\n",
    "        for word in words:\n",
    "            if word < smallest:\n",
    "                smallest = word\n",
    "        sorted_words.append(smallest)\n",
    "        words.remove(smallest)\n",
    "    return sorted_words\n",
    "\n",
    "words_list = [\"ufone\", \"zong\", \"jazz\"]\n",
    "print(alphabetical_sort(words_list))  \n"
   ]
  },
  {
   "cell_type": "code",
   "execution_count": null,
   "metadata": {},
   "outputs": [],
   "source": []
  }
 ],
 "metadata": {
  "kernelspec": {
   "display_name": "Python 3",
   "language": "python",
   "name": "python3"
  },
  "language_info": {
   "codemirror_mode": {
    "name": "ipython",
    "version": 3
   },
   "file_extension": ".py",
   "mimetype": "text/x-python",
   "name": "python",
   "nbconvert_exporter": "python",
   "pygments_lexer": "ipython3",
   "version": "3.11.9"
  }
 },
 "nbformat": 4,
 "nbformat_minor": 2
}
