{
 "cells": [
  {
   "cell_type": "code",
   "execution_count": null,
   "metadata": {},
   "outputs": [],
   "source": [
    "class ModelBasedReflexAgent:\n",
    "    def __init__(self, desired_temperature):\n",
    "        self.desired_temperature = desired_temperature\n",
    "        self.model = {}  \n",
    "\n",
    "    def perceive(self, room, current_temperature):\n",
    "        \n",
    "        self.model[room] = current_temperature\n",
    "        return current_temperature\n",
    "\n",
    "    def act(self, room):\n",
    "        current_temperature = self.model.get(room)\n",
    "        if current_temperature is None:\n",
    "            return \"No temperature data for this room.\"\n",
    "\n",
    "        if current_temperature < self.desired_temperature:\n",
    "            action = \"Turn on heater\"\n",
    "        else:\n",
    "            action = \"Turn off heater\"\n",
    "        return action\n",
    "\n",
    "\n",
    "rooms = {\n",
    "    \"Living Room\": 18,\n",
    "    \"Bedroom\": 22,\n",
    "    \"Kitchen\": 20,\n",
    "    \"Bathroom\": 24\n",
    "}\n",
    "\n",
    "desired_temperature = 22\n",
    "agent = ModelBasedReflexAgent(desired_temperature)\n",
    "\n",
    "for room, temperature in rooms.items():\n",
    "    agent.perceive(room, temperature)  \n",
    "    action = agent.act(room)           \n",
    "    print(f\"{room}: Current temperature = {temperature}°C. {action}.\")\n"
   ]
  }
 ],
 "metadata": {
  "language_info": {
   "name": "python"
  }
 },
 "nbformat": 4,
 "nbformat_minor": 2
}
