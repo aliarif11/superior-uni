{
 "cells": [
  {
   "cell_type": "code",
   "execution_count": 2,
   "metadata": {},
   "outputs": [
    {
     "name": "stdout",
     "output_type": "stream",
     "text": [
      "Current word: ______\n",
      "Wrong guess! Attempts left: 5\n",
      "Current word: ______\n",
      "Wrong guess! Attempts left: 4\n",
      "Current word: ______\n",
      "Wrong guess! Attempts left: 3\n",
      "Current word: ______\n",
      "Wrong guess! Attempts left: 2\n",
      "Current word: ______\n",
      "Wrong guess! Attempts left: 1\n",
      "Current word: ______\n",
      "Wrong guess! Attempts left: 0\n",
      "Game over! The word was: python\n"
     ]
    }
   ],
   "source": [
    "# Hangman\n",
    "import random\n",
    "\n",
    "def hangman(word):\n",
    "    guessed = '_' * len(word)\n",
    "    attempts = 6\n",
    "    while attempts > 0 and '_' in guessed:\n",
    "        print(\"Current word:\", guessed)\n",
    "        guess = input(\"Guess a letter: \").lower()\n",
    "        if guess in word:\n",
    "            guessed = ''.join([letter if letter == guess or letter in guessed else '_' for letter in word])\n",
    "        else:\n",
    "            attempts -= 1\n",
    "            print(\"Wrong guess! Attempts left:\", attempts)\n",
    "    if '_' not in guessed:\n",
    "        print(\"Congratulations! You've guessed the word:\", word)\n",
    "    else:\n",
    "        print(\"Game over! The word was:\", word)\n",
    "\n",
    "word_list = ['python', 'hangman', 'programming']\n",
    "hangman(random.choice(word_list))"
   ]
  }
 ],
 "metadata": {
  "kernelspec": {
   "display_name": "Python 3",
   "language": "python",
   "name": "python3"
  },
  "language_info": {
   "codemirror_mode": {
    "name": "ipython",
    "version": 3
   },
   "file_extension": ".py",
   "mimetype": "text/x-python",
   "name": "python",
   "nbconvert_exporter": "python",
   "pygments_lexer": "ipython3",
   "version": "3.11.9"
  }
 },
 "nbformat": 4,
 "nbformat_minor": 2
}
