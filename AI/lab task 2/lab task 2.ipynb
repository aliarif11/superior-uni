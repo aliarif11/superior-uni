{
 "cells": [
  {
   "cell_type": "code",
   "execution_count": 4,
   "metadata": {},
   "outputs": [
    {
     "name": "stdout",
     "output_type": "stream",
     "text": [
      "1\n",
      "2\n",
      "Fizz\n",
      "4\n"
     ]
    }
   ],
   "source": [
    "def fizz_buzz(a):\n",
    "    for i in range(1, a + 1):\n",
    "        if i % 3 == 0 and i % 5 == 0:\n",
    "            print(\"Fizz Buzz\")\n",
    "        elif i % 3 == 0:\n",
    "            print(\"Fizz\")\n",
    "        elif i % 5 == 0:\n",
    "            print(\"Buzz\")\n",
    "        else:\n",
    "            print(i)\n",
    "a = int(input(\"enter a no\"))\n",
    "fizz_buzz(a)"
   ]
  },
  {
   "cell_type": "code",
   "execution_count": null,
   "metadata": {},
   "outputs": [],
   "source": [
    "movies = [\n",
    "    (\"Eternal Sunshine of the Spotless Mind\", 20000000),\n",
    "    (\"Memento\", 9000000),\n",
    "    (\"Requiem for a Dream\", 4500000),\n",
    "    (\"Pirates of the Caribbean: On Stranger Tides\", 379000000),\n",
    "    (\"Avengers: Age of Ultron\", 365000000),\n",
    "    (\"Avengers: Endgame\", 356000000),\n",
    "    (\"Incredibles 2\", 200000000)\n",
    "]\n",
    "\n",
    "def get_budgets(movies):\n",
    "    budget = []\n",
    "    for i in movies:\n",
    "        budget.append(i[1])\n",
    "    return budget\n",
    "\n",
    "def Avg_Budget(budget):\n",
    "    return sum(budget) / len(budget)\n",
    "\n",
    "def high_budget(moveis, average_budget):\n",
    "    high = []\n",
    "    for movie, budget in movies:\n",
    "        if budget > average_budget:\n",
    "            high.append((movie, budget))\n",
    "            \n",
    "    # Count of high budget movies\n",
    "    count_high_budget = len(high)\n",
    "    for movie, budget in high:\n",
    "        print(f\"{movie}: {budget:,} ({budget - average_budget:,.2f} above average)\")\n",
    "    \n",
    "    return count_high_budget  # Return the count of high budget movies\n",
    "    \n",
    "def add():\n",
    "    num_movie = int(input(\"enter the number of movie you want to add \"))\n",
    "    new_movie = []\n",
    "    for i in range(num_movie):\n",
    "        name = input(\"Enter name of the movie you want to add\")\n",
    "        budget = int(input(\"enter budget of the movei in numbers\"))\n",
    "        new_movie.append((name,budget))\n",
    "    return new_movie   \n",
    "\n",
    "    \n",
    "\n",
    "\n",
    "def main():\n",
    "    new_movie = add()\n",
    "    movies_list = movies + new_movie\n",
    "    \n",
    "    budget = get_budgets(movies_list)\n",
    "    avarage_budget = Avg_Budget(budget)\n",
    "    \n",
    "    print(f\"Average budget: {avarage_budget:,.2f}\")\n",
    "    count_high_budget = high_budget(movies_list, avarage_budget)\n",
    "    print(f\"Number of movies with budgets higher than the average: {count_high_budget}\")\n",
    "\n",
    "    \n",
    "main()"
   ]
  }
 ],
 "metadata": {
  "kernelspec": {
   "display_name": "Python 3",
   "language": "python",
   "name": "python3"
  },
  "language_info": {
   "codemirror_mode": {
    "name": "ipython",
    "version": 3
   },
   "file_extension": ".py",
   "mimetype": "text/x-python",
   "name": "python",
   "nbconvert_exporter": "python",
   "pygments_lexer": "ipython3",
   "version": "3.11.9"
  }
 },
 "nbformat": 4,
 "nbformat_minor": 2
}
